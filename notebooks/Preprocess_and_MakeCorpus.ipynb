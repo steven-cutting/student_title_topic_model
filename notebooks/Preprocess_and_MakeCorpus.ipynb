{
 "cells": [
  {
   "cell_type": "code",
   "execution_count": 1,
   "metadata": {
    "collapsed": true
   },
   "outputs": [],
   "source": [
    "%load_ext autoreload\n",
    "%autoreload 2"
   ]
  },
  {
   "cell_type": "code",
   "execution_count": 2,
   "metadata": {
    "collapsed": true
   },
   "outputs": [],
   "source": [
    "import csv\n",
    "\n",
    "import itertools as itls"
   ]
  },
  {
   "cell_type": "code",
   "execution_count": 3,
   "metadata": {
    "collapsed": true
   },
   "outputs": [],
   "source": [
    "import cytoolz as tlz\n",
    "from cytoolz import curried as tlzc\n",
    "\n",
    "from text2math import raw2text as r2t\n",
    "from text2math import text2tokens as t2t\n",
    "from text2math import tokens2numbers as t2n\n",
    "import text2math as txt2m\n",
    "\n",
    "from gensim import corpora"
   ]
  },
  {
   "cell_type": "code",
   "execution_count": 4,
   "metadata": {
    "collapsed": true
   },
   "outputs": [],
   "source": [
    "head = lambda l: list(tlzc.take(4, l))"
   ]
  },
  {
   "cell_type": "markdown",
   "metadata": {},
   "source": [
    "---"
   ]
  },
  {
   "cell_type": "markdown",
   "metadata": {},
   "source": [
    "# Loading Data"
   ]
  },
  {
   "cell_type": "code",
   "execution_count": 5,
   "metadata": {
    "collapsed": true
   },
   "outputs": [],
   "source": [
    "def read_student_title():\n",
    "    with open(\"../student_title.csv\") as f:\n",
    "        return tlz.drop(1, [line for line in csv.reader(f)])"
   ]
  },
  {
   "cell_type": "code",
   "execution_count": 6,
   "metadata": {
    "collapsed": false
   },
   "outputs": [],
   "source": [
    "STUDENT_TITLES = list(tlz.map(tlz.second, read_student_title()))"
   ]
  },
  {
   "cell_type": "code",
   "execution_count": 7,
   "metadata": {
    "collapsed": false
   },
   "outputs": [
    {
     "data": {
      "text/plain": [
       "['No Contest: Participatory Technologies and the Transformation of Urban Authority',\n",
       " 'Machine Learning',\n",
       " 'Statistics for Non-Statisticians',\n",
       " 'Pentland| Alex| Social Physics: How Good Ideas Spread-the Lessons from a New Science| New York| NY: The Penguin Press| 2014. vii + 320 Pages. $27.95 (hardback)']"
      ]
     },
     "execution_count": 7,
     "metadata": {},
     "output_type": "execute_result"
    }
   ],
   "source": [
    "head(STUDENT_TITLES)"
   ]
  },
  {
   "cell_type": "code",
   "execution_count": 8,
   "metadata": {
    "collapsed": false
   },
   "outputs": [
    {
     "data": {
      "text/plain": [
       "65023"
      ]
     },
     "execution_count": 8,
     "metadata": {},
     "output_type": "execute_result"
    }
   ],
   "source": [
    "len(STUDENT_TITLES)"
   ]
  },
  {
   "cell_type": "markdown",
   "metadata": {},
   "source": [
    "---"
   ]
  },
  {
   "cell_type": "markdown",
   "metadata": {},
   "source": [
    "# Initial Cleaning and Prepping"
   ]
  },
  {
   "cell_type": "code",
   "execution_count": 9,
   "metadata": {
    "collapsed": true
   },
   "outputs": [],
   "source": [
    "def uni_and_bigram_cleanup(txts):\n",
    "    return tlz.pipe(txts,\n",
    "                    tlzc.map(r2t.decode_and_fix),\n",
    "                    tlzc.map(lambda title: itls.chain(t2t.unigram(title), t2t.bigram(title))),\n",
    "                    tlzc.map(tuple),\n",
    "                    list)"
   ]
  },
  {
   "cell_type": "code",
   "execution_count": 10,
   "metadata": {
    "collapsed": false,
    "scrolled": true
   },
   "outputs": [
    {
     "name": "stdout",
     "output_type": "stream",
     "text": [
      "CPU times: user 43.2 s, sys: 738 ms, total: 43.9 s\n",
      "Wall time: 50.7 s\n"
     ]
    }
   ],
   "source": [
    "%time CLEAN_TOKENS_SETS = uni_and_bigram_cleanup(STUDENT_TITLES)"
   ]
  },
  {
   "cell_type": "code",
   "execution_count": 11,
   "metadata": {
    "collapsed": true
   },
   "outputs": [],
   "source": [
    "tlz.random_sample?"
   ]
  },
  {
   "cell_type": "code",
   "execution_count": 12,
   "metadata": {
    "collapsed": false
   },
   "outputs": [
    {
     "data": {
      "text/plain": [
       "[(u'climate',\n",
       "  u'change',\n",
       "  u'impacts',\n",
       "  u'adaptation',\n",
       "  u'cities',\n",
       "  u'review',\n",
       "  u'literature',\n",
       "  u'climate_change',\n",
       "  u'change_impacts',\n",
       "  u'impacts_adaptation',\n",
       "  u'adaptation_cities',\n",
       "  u'cities_review',\n",
       "  u'review_literature'),\n",
       " (u'statistics',\n",
       "  u'non',\n",
       "  u'statisticians',\n",
       "  u'statistics_non',\n",
       "  u'non_statisticians'),\n",
       " (u'unveiling',\n",
       "  u'intricacies',\n",
       "  u'bullying',\n",
       "  u'students',\n",
       "  u'perspectives',\n",
       "  u'polytechnic',\n",
       "  u'singapore',\n",
       "  u'unveiling_intricacies',\n",
       "  u'intricacies_bullying',\n",
       "  u'bullying_students',\n",
       "  u'students_perspectives',\n",
       "  u'perspectives_polytechnic',\n",
       "  u'polytechnic_singapore'),\n",
       " (u'emerging',\n",
       "  u'research',\n",
       "  u'indigenous',\n",
       "  u'management',\n",
       "  u'asia',\n",
       "  u'emerging_research',\n",
       "  u'research_indigenous',\n",
       "  u'indigenous_management',\n",
       "  u'management_asia')]"
      ]
     },
     "execution_count": 12,
     "metadata": {},
     "output_type": "execute_result"
    }
   ],
   "source": [
    "head(tlz.random_sample(0.1, CLEAN_TOKENS_SETS, random_state=2017))"
   ]
  },
  {
   "cell_type": "markdown",
   "metadata": {},
   "source": [
    "---"
   ]
  },
  {
   "cell_type": "markdown",
   "metadata": {},
   "source": [
    "# Creating Dictionary and Bag of Words Corpus"
   ]
  },
  {
   "cell_type": "code",
   "execution_count": 13,
   "metadata": {
    "collapsed": true
   },
   "outputs": [],
   "source": [
    "def make_dict_and_corpus(tokensets):\n",
    "\n",
    "    dictionary = corpora.Dictionary(tokensets)\n",
    "\n",
    "    dictionary.filter_extremes(no_below=5,\n",
    "                               no_above=0.5,\n",
    "                               keep_n=100000)\n",
    "    dictionary.compactify()\n",
    "\n",
    "    corpus = tlz.map(dictionary.doc2bow, tokensets)\n",
    "\n",
    "    return (dictionary, corpus)"
   ]
  },
  {
   "cell_type": "code",
   "execution_count": 14,
   "metadata": {
    "collapsed": false,
    "scrolled": true
   },
   "outputs": [
    {
     "name": "stdout",
     "output_type": "stream",
     "text": [
      "CPU times: user 3.45 s, sys: 193 ms, total: 3.65 s\n",
      "Wall time: 4.91 s\n"
     ]
    }
   ],
   "source": [
    "%time DICTIONARY, BOW_CORPUS = make_dict_and_corpus(CLEAN_TOKENS_SETS)"
   ]
  },
  {
   "cell_type": "markdown",
   "metadata": {},
   "source": [
    "---"
   ]
  },
  {
   "cell_type": "code",
   "execution_count": 15,
   "metadata": {
    "collapsed": true
   },
   "outputs": [],
   "source": [
    "c = list(BOW_CORPUS)"
   ]
  },
  {
   "cell_type": "code",
   "execution_count": 18,
   "metadata": {
    "collapsed": false
   },
   "outputs": [
    {
     "data": {
      "text/plain": [
       "[[(2809, 1), (6748, 1), (7162, 1), (8810, 1), (14006, 1)],\n",
       " [(672, 1),\n",
       "  (705, 2),\n",
       "  (2706, 1),\n",
       "  (6115, 1),\n",
       "  (8307, 1),\n",
       "  (9552, 1),\n",
       "  (10752, 1),\n",
       "  (11449, 1),\n",
       "  (12729, 1),\n",
       "  (13322, 1),\n",
       "  (13521, 1),\n",
       "  (16074, 1),\n",
       "  (17116, 1),\n",
       "  (17665, 1),\n",
       "  (19280, 1),\n",
       "  (20919, 1)]]"
      ]
     },
     "execution_count": 18,
     "metadata": {},
     "output_type": "execute_result"
    }
   ],
   "source": [
    "c[2:4]"
   ]
  },
  {
   "cell_type": "markdown",
   "metadata": {},
   "source": [
    "---"
   ]
  },
  {
   "cell_type": "markdown",
   "metadata": {},
   "source": [
    "# Saving Dictionary and Bag of Words Corpus"
   ]
  },
  {
   "cell_type": "code",
   "execution_count": 86,
   "metadata": {
    "collapsed": false
   },
   "outputs": [
    {
     "name": "stdout",
     "output_type": "stream",
     "text": [
      "CPU times: user 57.1 ms, sys: 6.16 ms, total: 63.3 ms\n",
      "Wall time: 67.2 ms\n"
     ]
    }
   ],
   "source": [
    "%time DICTIONARY.save(\"student_titles_dict.dict\")"
   ]
  },
  {
   "cell_type": "code",
   "execution_count": 87,
   "metadata": {
    "collapsed": false
   },
   "outputs": [
    {
     "name": "stdout",
     "output_type": "stream",
     "text": [
      "CPU times: user 4.66 s, sys: 249 ms, total: 4.91 s\n",
      "Wall time: 4.99 s\n"
     ]
    }
   ],
   "source": [
    "%time corpora.MmCorpus.serialize(\"student_titles_bow_corpus.mm\", BOW_CORPUS)"
   ]
  }
 ],
 "metadata": {
  "kernelspec": {
   "display_name": "Python 2",
   "language": "python",
   "name": "python2"
  },
  "language_info": {
   "codemirror_mode": {
    "name": "ipython",
    "version": 2
   },
   "file_extension": ".py",
   "mimetype": "text/x-python",
   "name": "python",
   "nbconvert_exporter": "python",
   "pygments_lexer": "ipython2",
   "version": "2.7.10"
  }
 },
 "nbformat": 4,
 "nbformat_minor": 0
}
