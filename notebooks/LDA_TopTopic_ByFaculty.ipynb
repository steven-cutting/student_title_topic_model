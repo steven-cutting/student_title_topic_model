{
 "cells": [
  {
   "cell_type": "code",
   "execution_count": 1,
   "metadata": {
    "collapsed": false
   },
   "outputs": [],
   "source": [
    "%load_ext autoreload\n",
    "%autoreload 2"
   ]
  },
  {
   "cell_type": "code",
   "execution_count": 2,
   "metadata": {
    "collapsed": true
   },
   "outputs": [],
   "source": [
    "import pickle"
   ]
  },
  {
   "cell_type": "code",
   "execution_count": 13,
   "metadata": {
    "collapsed": true
   },
   "outputs": [],
   "source": [
    "from gensim import corpora\n",
    "from gensim import models\n",
    "\n",
    "import cytoolz as tlz"
   ]
  },
  {
   "cell_type": "markdown",
   "metadata": {},
   "source": [
    "---"
   ]
  },
  {
   "cell_type": "markdown",
   "metadata": {},
   "source": [
    "# Loading Files"
   ]
  },
  {
   "cell_type": "markdown",
   "metadata": {},
   "source": [
    "## Loading Corpus and Dictionary"
   ]
  },
  {
   "cell_type": "code",
   "execution_count": 3,
   "metadata": {
    "collapsed": true
   },
   "outputs": [],
   "source": [
    "DICTIONARY = corpora.Dictionary.load(\"./student_titles_dict.dict\")\n",
    "# BOW_CORPUS = corpora.MmCorpus(\"./student_titles_bow_corpus.mm\")"
   ]
  },
  {
   "cell_type": "code",
   "execution_count": 4,
   "metadata": {
    "collapsed": true
   },
   "outputs": [],
   "source": [
    "with open(\"./corpus_by_faculty.pickle\") as f:\n",
    "    FCORPUS = pickle.load(f)"
   ]
  },
  {
   "cell_type": "markdown",
   "metadata": {},
   "source": [
    "## Loading Models"
   ]
  },
  {
   "cell_type": "code",
   "execution_count": 5,
   "metadata": {
    "collapsed": false,
    "scrolled": true
   },
   "outputs": [],
   "source": [
    "TFIDF_MODEL = models.TfidfModel.load(\"./student_topic.tfidf\")\n",
    "LDA_MODEL = models.LdaModel.load(\"./student_topic.lda\")"
   ]
  },
  {
   "cell_type": "markdown",
   "metadata": {},
   "source": [
    "---"
   ]
  },
  {
   "cell_type": "markdown",
   "metadata": {},
   "source": [
    "# Finding top topics of each faculty specific corpus"
   ]
  },
  {
   "cell_type": "markdown",
   "metadata": {},
   "source": [
    "Calculate the Umass topic coherence for each topic. Algorithm from Mimno, Wallach, Talley, Leenders, McCallum: Optimizing Semantic Coherence in Topic Models, CEMNLP 2011."
   ]
  },
  {
   "cell_type": "markdown",
   "metadata": {},
   "source": [
    "### Accountancy"
   ]
  },
  {
   "cell_type": "code",
   "execution_count": 7,
   "metadata": {
    "collapsed": false
   },
   "outputs": [
    {
     "name": "stdout",
     "output_type": "stream",
     "text": [
      "CPU times: user 1h 26min 2s, sys: 34.6 s, total: 1h 26min 37s\n",
      "Wall time: 1h 29min 11s\n"
     ]
    }
   ],
   "source": [
    "%time T1 = LDA_MODEL.top_topics(LDA_MODEL[TFIDF_MODEL[FCORPUS['School of Accountancy']]])"
   ]
  },
  {
   "cell_type": "code",
   "execution_count": 18,
   "metadata": {
    "collapsed": false,
    "scrolled": false
   },
   "outputs": [
    {
     "name": "stdout",
     "output_type": "stream",
     "text": [
      "\n",
      "\n",
      "--- TOPIC: 0 ---\n",
      "\n",
      "\n",
      "Word                 Probability\n",
      "----                 -----------\n",
      "asset                0.0597930739572\n",
      "reform               0.0523918412134\n",
      "experimental         0.0413133277667\n",
      "transformation       0.0289353335671\n",
      "method               0.0281580524114\n",
      "traits               0.0260234453458\n",
      "linear               0.0237631486455\n",
      "thought              0.0199485504975\n",
      "french               0.0149804215388\n",
      "inventory            0.0149675408963\n",
      "presence             0.0147645435867\n",
      "elite                0.0147526208573\n",
      "programming          0.0145165696859\n",
      "norway               0.0140024091359\n",
      "personality_traits   0.0136281192234\n",
      "talk                 0.0117940609991\n",
      "logic                0.0113589759612\n",
      "experimental_study   0.0103691983545\n",
      "prices               0.00997471387352\n",
      "immigration          0.00972838201849\n",
      "\n",
      "\n",
      "--- TOPIC: 1 ---\n",
      "\n",
      "\n",
      "Word                 Probability\n",
      "----                 -----------\n",
      "models               0.11084516615\n",
      "data                 0.0978821867134\n",
      "system               0.0672927104766\n",
      "panel                0.0545981206827\n",
      "finance              0.0429738298015\n",
      "panel_data           0.0309581137846\n",
      "production           0.0292371358514\n",
      "analysis             0.026688060894\n",
      "transition           0.025188048541\n",
      "corruption           0.024409176823\n",
      "fixed                0.0205909670933\n",
      "theoretical          0.0197940906936\n",
      "dynamic              0.0193665584078\n",
      "applications         0.0193328159232\n",
      "effects              0.0192835858644\n",
      "practical            0.0116211850227\n",
      "endogenous           0.0114039456758\n",
      "fixed_effects        0.0108252692024\n",
      "point                0.0107171818695\n",
      "data_models          0.00963222591886\n",
      "\n",
      "\n",
      "--- TOPIC: 2 ---\n",
      "\n",
      "\n",
      "Word                 Probability\n",
      "----                 -----------\n",
      "effect               0.175641653973\n",
      "human                0.128246878342\n",
      "resource             0.0766128114082\n",
      "expectations         0.0321769219992\n",
      "human_resource       0.0243780900946\n",
      "smart                0.0231816260285\n",
      "know                 0.0228578747292\n",
      "home                 0.0221538905354\n",
      "big                  0.0210911238651\n",
      "ties                 0.0202278035388\n",
      "human_capital        0.0200542812087\n",
      "succession           0.0188944717843\n",
      "capital              0.0188893501615\n",
      "big_data             0.0184204052405\n",
      "data                 0.0176293096835\n",
      "innovations          0.0168128639874\n",
      "resource_management  0.0140917793585\n",
      "trait                0.0132108192453\n",
      "resource_based       0.0101070221547\n",
      "since                0.00829978829712\n",
      "\n",
      "\n",
      "--- TOPIC: 3 ---\n",
      "\n",
      "\n",
      "Word                 Probability\n",
      "----                 -----------\n",
      "business             0.156593490048\n",
      "family               0.0887728172914\n",
      "control              0.0863339935128\n",
      "investigation        0.0389423455093\n",
      "key                  0.0188878208555\n",
      "destination          0.0179752482013\n",
      "court                0.0175915082877\n",
      "family_business      0.0154930167882\n",
      "fan                  0.014212640772\n",
      "involvement          0.0141461169184\n",
      "empirical            0.013338966333\n",
      "paradox              0.0129515333284\n",
      "york                 0.0127088284288\n",
      "new_york             0.0124911816746\n",
      "attribute            0.012440440235\n",
      "organizational_learning 0.0104486955968\n",
      "self_control         0.0103857405031\n",
      "encryption           0.0095046803005\n",
      "name                 0.00923549764822\n",
      "empirical_investigation 0.00922793937789\n",
      "\n",
      "\n",
      "--- TOPIC: 4 ---\n",
      "\n",
      "\n",
      "Word                 Probability\n",
      "----                 -----------\n",
      "public               0.222525115259\n",
      "pay                  0.0333686306765\n",
      "estimation           0.0332076787514\n",
      "interest             0.0305002036166\n",
      "industrial           0.0205438391532\n",
      "prison               0.0201476031632\n",
      "natural              0.0184657688535\n",
      "monetary             0.0168163980349\n",
      "public_private       0.0156537530461\n",
      "intensive            0.0144027289557\n",
      "brexit               0.013407982704\n",
      "willingness          0.0134007837555\n",
      "informed             0.0127422118358\n",
      "construct            0.0124906203856\n",
      "excess               0.010671341624\n",
      "landscape            0.0101364519158\n",
      "public_housing       0.00956378805512\n",
      "monetary_policy      0.00895779288899\n",
      "offerings            0.00895064001677\n",
      "jurisprudence        0.00861584519863\n",
      "\n",
      "\n",
      "--- TOPIC: 5 ---\n",
      "\n",
      "\n",
      "Word                 Probability\n",
      "----                 -----------\n",
      "work                 0.150442623713\n",
      "environment          0.0482559869154\n",
      "first                0.0421293920404\n",
      "behaviour            0.0419701165147\n",
      "low                  0.0363977217007\n",
      "employees            0.0329699724939\n",
      "racial               0.0234274021579\n",
      "internal             0.0219259179773\n",
      "families             0.0208067071333\n",
      "looking              0.0198228421457\n",
      "discrimination       0.0172809795069\n",
      "heterogeneity        0.0171957942214\n",
      "older                0.0158138122155\n",
      "america              0.0150385115123\n",
      "everyday             0.0147347107933\n",
      "low_income           0.0141690820005\n",
      "vocational           0.0131547845781\n",
      "effects              0.0129574674048\n",
      "stability            0.0127404004298\n",
      "life                 0.0107662402794\n",
      "\n",
      "\n",
      "--- TOPIC: 6 ---\n",
      "\n",
      "\n",
      "Word                 Probability\n",
      "----                 -----------\n",
      "urban                0.0905949904635\n",
      "design               0.0740540750339\n",
      "long                 0.0578702554116\n",
      "japan                0.0559617899005\n",
      "term                 0.0546240084982\n",
      "sustainability       0.0390445785119\n",
      "child                0.0325306605104\n",
      "singapore            0.0300754208597\n",
      "second               0.0295617491755\n",
      "treatment            0.0267567674549\n",
      "long_term            0.0248863191716\n",
      "location             0.0227518949389\n",
      "banks                0.0223927002997\n",
      "resilience           0.022220345355\n",
      "third                0.0202686553244\n",
      "electoral            0.0200959113873\n",
      "multiculturalism     0.0175172604093\n",
      "ecological           0.0130595463631\n",
      "optimism             0.0119998315326\n",
      "effects              0.0101801312115\n",
      "\n",
      "\n",
      "--- TOPIC: 7 ---\n",
      "\n",
      "\n",
      "Word                 Probability\n",
      "----                 -----------\n",
      "meta                 0.0705197831969\n",
      "analysis             0.0669856413337\n",
      "psychological        0.0545581334533\n",
      "matter               0.0469072054452\n",
      "meta_analysis        0.0440612900335\n",
      "application          0.0351305349851\n",
      "well                 0.0256420773619\n",
      "analytic             0.0244393753085\n",
      "gambling             0.0235103315889\n",
      "type                 0.0222368530659\n",
      "meta_analytic        0.0200292559658\n",
      "place                0.0181437708425\n",
      "survival             0.0161193270667\n",
      "exposure             0.0150186851095\n",
      "overview             0.0139184203117\n",
      "review               0.0127151164873\n",
      "definition           0.0126182035347\n",
      "individualism        0.0118586571083\n",
      "effects              0.0115418645873\n",
      "bargaining           0.0110467179631\n",
      "\n",
      "\n",
      "--- TOPIC: 8 ---\n",
      "\n",
      "\n",
      "Word                 Probability\n",
      "----                 -----------\n",
      "ownership            0.0506894007821\n",
      "across               0.0461906252594\n",
      "economics            0.0365577648951\n",
      "managerial           0.0334423303569\n",
      "agency               0.025673906309\n",
      "early                0.0247911613464\n",
      "incentives           0.0220225298579\n",
      "peer                 0.0188407365639\n",
      "aggression           0.0168643307713\n",
      "neo                  0.0154371747176\n",
      "course               0.0130475647151\n",
      "side                 0.0124745540999\n",
      "end                  0.0109627790252\n",
      "provision            0.0106878127016\n",
      "expression           0.0104967095681\n",
      "volume               0.00999171808435\n",
      "yukos                0.00997525668497\n",
      "across_cultures      0.00985786581723\n",
      "russian              0.00949741591045\n",
      "2005                 0.00939744300181\n",
      "\n",
      "\n",
      "--- TOPIC: 9 ---\n",
      "\n",
      "\n",
      "Word                 Probability\n",
      "----                 -----------\n",
      "case                 0.197449294209\n",
      "study                0.191133539127\n",
      "case_study           0.0588839618928\n",
      "characteristics      0.0501477000185\n",
      "uncertainty          0.0456539683374\n",
      "costs                0.0342240606354\n",
      "theories             0.0221375705842\n",
      "skills               0.0176989869019\n",
      "four                 0.0162675245242\n",
      "oecd                 0.0150069141839\n",
      "world                0.0144272542448\n",
      "romantic_relationships 0.0137072281107\n",
      "awareness            0.0115627545312\n",
      "implicit             0.0103229952734\n",
      "transaction          0.0101571927574\n",
      "scandinavian         0.0100813700484\n",
      "case_studies         0.00971430034244\n",
      "development          0.00944763964071\n",
      "wave                 0.00859142815227\n",
      "experiential         0.00827752164352\n",
      "\n",
      "\n",
      "--- TOPIC: 10 ---\n",
      "\n",
      "\n",
      "Word                 Probability\n",
      "----                 -----------\n",
      "evidence             0.214648148801\n",
      "stock                0.0866511836446\n",
      "markets              0.0600905381333\n",
      "price                0.0522754768634\n",
      "content              0.0319960073332\n",
      "analysis             0.0280372851862\n",
      "empirical            0.0269820842516\n",
      "stock_returns        0.0257350005673\n",
      "liquidity            0.0197411342895\n",
      "predictability       0.0139059132093\n",
      "dividend             0.0119359863402\n",
      "empirical_analysis   0.0114529175193\n",
      "effects              0.0113648905824\n",
      "algorithms           0.0102478975695\n",
      "illusion             0.0102123467116\n",
      "around               0.00984744900621\n",
      "stock_market         0.0089263726699\n",
      "patent               0.00889064676271\n",
      "investor_attention   0.00833872771175\n",
      "stock_price          0.00810247589649\n",
      "\n",
      "\n",
      "--- TOPIC: 11 ---\n",
      "\n",
      "\n",
      "Word                 Probability\n",
      "----                 -----------\n",
      "learning             0.177950206811\n",
      "framework            0.0796228673896\n",
      "sex                  0.06145720862\n",
      "earnings             0.0484023708749\n",
      "differences          0.0337292713481\n",
      "regional             0.0315597687242\n",
      "green                0.0299832548289\n",
      "conceptual_framework 0.0243754378165\n",
      "gender_differences   0.0217892360298\n",
      "flows                0.0213800323874\n",
      "region               0.0160019157515\n",
      "secondary            0.0155499213541\n",
      "hybrid               0.0135517998187\n",
      "english              0.0133055683846\n",
      "primary              0.0129980910957\n",
      "machine              0.0105943007834\n",
      "earnings_management  0.0104922761407\n",
      "start                0.00942716366722\n",
      "radical              0.00881429492373\n",
      "growing              0.00872964285957\n",
      "\n",
      "\n",
      "--- TOPIC: 12 ---\n",
      "\n",
      "\n",
      "Word                 Probability\n",
      "----                 -----------\n",
      "online               0.129329280601\n",
      "study                0.0612790363703\n",
      "empirical            0.0573954654454\n",
      "perception           0.053343082163\n",
      "consumers            0.0459253848105\n",
      "benefits             0.0437776446521\n",
      "music                0.0381473534034\n",
      "retail               0.0306438680053\n",
      "exploratory          0.0301291243553\n",
      "field                0.0285832920239\n",
      "user                 0.0242869137744\n",
      "motivations          0.0210789890555\n",
      "exploratory_study    0.0178302099435\n",
      "empirical_study      0.0155613438759\n",
      "years                0.0151200105392\n",
      "professionals        0.0145876706195\n",
      "segmentation         0.0134906926003\n",
      "economic_development 0.013200038951\n",
      "hotels               0.0113906461526\n",
      "stores               0.0113322442314\n",
      "\n",
      "\n",
      "--- TOPIC: 13 ---\n",
      "\n",
      "\n",
      "Word                 Probability\n",
      "----                 -----------\n",
      "relationship         0.169680914212\n",
      "teams                0.0479817274193\n",
      "society              0.0406095572636\n",
      "assessing            0.0382025724188\n",
      "prices               0.0296005899494\n",
      "needs                0.02499316794\n",
      "distribution         0.0225199467864\n",
      "joint                0.0216675516638\n",
      "subjective           0.0199937688097\n",
      "cooperation          0.0174804540639\n",
      "branding             0.016872633304\n",
      "experiment           0.0165639247131\n",
      "external             0.0150223371701\n",
      "degree               0.0149407191889\n",
      "well                 0.0136036658901\n",
      "typology             0.0129520460915\n",
      "western              0.0128271113541\n",
      "role                 0.0123200687014\n",
      "stock_prices         0.0122570617987\n",
      "internationalization 0.0119014280911\n",
      "\n",
      "\n",
      "--- TOPIC: 14 ---\n",
      "\n",
      "\n",
      "Word                 Probability\n",
      "----                 -----------\n",
      "product              0.086483646442\n",
      "exploring            0.0783790572841\n",
      "dynamic              0.0503936599154\n",
      "exchange             0.0485879470739\n",
      "taking               0.0357939572463\n",
      "relational           0.0346517026765\n",
      "leader               0.0293244256838\n",
      "bad                  0.0268881317729\n",
      "rethinking           0.0244268535368\n",
      "rates                0.0231537316155\n",
      "identities           0.0217230299637\n",
      "member               0.0198300217925\n",
      "capabilities         0.0172448463211\n",
      "revolution           0.0158045615289\n",
      "effects              0.0155866415996\n",
      "reasoning            0.0151973144717\n",
      "journalism           0.0134622226456\n",
      "leader_member        0.0116724955789\n",
      "member_exchange      0.0111137056055\n",
      "remembering          0.0108784039907\n"
     ]
    }
   ],
   "source": [
    "for i,topic in enumerate(list(tlz.map(tlz.first, tlz.filter(tlz.second, T1)))):\n",
    "    print '\\n'\n",
    "    print '--- TOPIC: {} ---'.format(i)\n",
    "    print '\\n'\n",
    "    print \"{0:20} {1}\".format('Word', 'Probability')\n",
    "    print \"{0:20} {1}\".format('----', '-----------')\n",
    "    for word, prob in topic:\n",
    "        print \"{0:20} {1}\".format(prob,word)"
   ]
  },
  {
   "cell_type": "markdown",
   "metadata": {},
   "source": [
    "### Social Sciences"
   ]
  },
  {
   "cell_type": "code",
   "execution_count": null,
   "metadata": {
    "collapsed": false
   },
   "outputs": [
    {
     "name": "stdout",
     "output_type": "stream",
     "text": [
      "CPU times: user 5h 22min 2s, sys: 3min 17s, total: 5h 25min 19s\n",
      "Wall time: 5h 44min 15s\n"
     ]
    }
   ],
   "source": [
    "%time T2 = LDA_MODEL.top_topics(LDA_MODEL[TFIDF_MODEL[FCORPUS['School of Social Sciences']]])"
   ]
  },
  {
   "cell_type": "markdown",
   "metadata": {},
   "source": [
    "### Economics"
   ]
  },
  {
   "cell_type": "code",
   "execution_count": null,
   "metadata": {
    "collapsed": true
   },
   "outputs": [],
   "source": [
    "%time T3 = LDA_MODEL.top_topics(LDA_MODEL[TFIDF_MODEL[FCORPUS['School of Economics']]])"
   ]
  },
  {
   "cell_type": "markdown",
   "metadata": {},
   "source": [
    "### Law"
   ]
  },
  {
   "cell_type": "code",
   "execution_count": null,
   "metadata": {
    "collapsed": true
   },
   "outputs": [],
   "source": [
    "%time T4 = LDA_MODEL.top_topics(LDA_MODEL[TFIDF_MODEL[FCORPUS['School of Law']]])"
   ]
  },
  {
   "cell_type": "markdown",
   "metadata": {},
   "source": [
    "### Business"
   ]
  },
  {
   "cell_type": "code",
   "execution_count": null,
   "metadata": {
    "collapsed": true
   },
   "outputs": [],
   "source": [
    "%time T5 = LDA_MODEL.top_topics(LDA_MODEL[TFIDF_MODEL[FCORPUS['Lee Kong Chian School of Business']]])"
   ]
  },
  {
   "cell_type": "markdown",
   "metadata": {},
   "source": [
    "### Information Systems"
   ]
  },
  {
   "cell_type": "code",
   "execution_count": null,
   "metadata": {
    "collapsed": true
   },
   "outputs": [],
   "source": [
    "%time T6 = LDA_MODEL.top_topics(LDA_MODEL[TFIDF_MODEL[FCORPUS['School of Information Systems']]])"
   ]
  },
  {
   "cell_type": "markdown",
   "metadata": {},
   "source": [
    "### Others"
   ]
  },
  {
   "cell_type": "code",
   "execution_count": null,
   "metadata": {
    "collapsed": true
   },
   "outputs": [],
   "source": [
    "%time T7 = LDA_MODEL.top_topics(LDA_MODEL[TFIDF_MODEL[FCORPUS['Others']]])"
   ]
  },
  {
   "cell_type": "code",
   "execution_count": null,
   "metadata": {
    "collapsed": true
   },
   "outputs": [],
   "source": []
  }
 ],
 "metadata": {
  "kernelspec": {
   "display_name": "Python 2",
   "language": "python",
   "name": "python2"
  },
  "language_info": {
   "codemirror_mode": {
    "name": "ipython",
    "version": 2
   },
   "file_extension": ".py",
   "mimetype": "text/x-python",
   "name": "python",
   "nbconvert_exporter": "python",
   "pygments_lexer": "ipython2",
   "version": "2.7.10"
  }
 },
 "nbformat": 4,
 "nbformat_minor": 0
}
